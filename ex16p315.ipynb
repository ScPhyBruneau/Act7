{
  "nbformat": 4,
  "nbformat_minor": 0,
  "metadata": {
    "colab": {
      "provenance": [],
      "authorship_tag": "ABX9TyM7Dqj04i/0LCG5YUffIZbP",
      "include_colab_link": true
    },
    "kernelspec": {
      "name": "python3",
      "display_name": "Python 3"
    },
    "language_info": {
      "name": "python"
    }
  },
  "cells": [
    {
      "cell_type": "markdown",
      "metadata": {
        "id": "view-in-github",
        "colab_type": "text"
      },
      "source": [
        "<a href=\"https://colab.research.google.com/github/ScPhyBruneau/Seconde/blob/main/ex16p315.ipynb\" target=\"_parent\"><img src=\"https://colab.research.google.com/assets/colab-badge.svg\" alt=\"Open In Colab\"/></a>"
      ]
    },
    {
      "cell_type": "markdown",
      "source": [
        "### Exercice 16 p 315"
      ],
      "metadata": {
        "id": "tN2D1UrKuivl"
      }
    },
    {
      "cell_type": "code",
      "execution_count": null,
      "metadata": {
        "id": "km3ZajSFrBUU"
      },
      "outputs": [],
      "source": [
        "import matplotlib.pyplot as plt\n",
        "#Liste des tensions\n",
        "ListeDesY=[0,0.67,1.27,2.03,2.73,3.49,4.21,4.94]\n",
        "#Liste des intensités coreespondantes\n",
        "ListeDesX=[0,0.003,0.0057,0.0091,0.0123,0.0157,0.019,0.0223]\n",
        "#Tracé des points expérimentaux\n",
        "plt.plot(ListeDesX, ListeDesY,'k+')\n",
        "plt.show()"
      ]
    },
    {
      "cell_type": "code",
      "source": [
        "def modele(liste):\n",
        "  #Initialisation\n",
        "  ListeDesYModele=[]\n",
        "  #Choix des paramètres du modèle linéaire\n",
        "  a=220\n",
        "  b=0\n",
        "  for x in liste :\n",
        "    ListeDesYModele.append(a*x+b)\n",
        "  return(ListeDesYModele)\n",
        "#Tracé de la courbe modèle\n",
        "plt.plot(ListeDesX, ListeDesY,'k+')\n",
        "plt.plot(ListeDesX,modele (ListeDesX),'r-')\n",
        "plt.show()\n"
      ],
      "metadata": {
        "id": "rXwVN668sgVs"
      },
      "execution_count": null,
      "outputs": []
    }
  ]
}