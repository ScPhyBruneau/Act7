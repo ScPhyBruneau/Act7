{
 "cells": [
  {
   "cell_type": "code",
   "execution_count": 1,
   "metadata": {},
   "outputs": [],
   "source": [
    "import numpy as np\n",
    "import matplotlib.pyplot as plt\n",
    "import scipy.stats as sc"
   ]
  },
  {
   "cell_type": "code",
   "execution_count": 2,
   "metadata": {
    "scrolled": false
   },
   "outputs": [
    {
     "ename": "SyntaxError",
     "evalue": "can't assign to Ellipsis (<ipython-input-2-510d11ab61f2>, line 2)",
     "output_type": "error",
     "traceback": [
      "\u001b[1;36m  File \u001b[1;32m\"<ipython-input-2-510d11ab61f2>\"\u001b[1;36m, line \u001b[1;32m2\u001b[0m\n\u001b[1;33m    ...=np.array([...,...,...,...,...,...,...,...,... ]) #I en mA\u001b[0m\n\u001b[1;37m                                                                 ^\u001b[0m\n\u001b[1;31mSyntaxError\u001b[0m\u001b[1;31m:\u001b[0m can't assign to Ellipsis\n"
     ]
    }
   ],
   "source": [
    "# Valeurs expérimentales\n",
    "...=np.array([...,...,...,...,...,...,...,...,... ]) #I en mA\n",
    "...=np.array([...,...,...,...,...,...,...,...,... ]) #U en V\n",
    "\n",
    "# Représentation d'un nuage de points\n",
    "plt.plot(...,...,'o',color='green')  "
   ]
  },
  {
   "cell_type": "code",
   "execution_count": null,
   "metadata": {},
   "outputs": [],
   "source": [
    "# Modélisation d'une courbe : lignes à compléter à l'aide du doc 4      \n",
    "droite=sc.linregress(I,U) \n",
    "coefficient=droite.slope \n",
    "print(\"Coefficient directeur :\",coefficient) \n",
    "oorigine=droite.intercept \n",
    "print(\"Ordonnée à l'origine :\",oorigine)\n",
    "\n",
    "# Tracé de la droite de régression : lignes à compléter à l'aide du doc 4\n",
    "U_modele=...*I+...\n",
    "plt.plot(I,U,'o',color='green') \n",
    "plt.plot(I,U_modele,color='red')  \n",
    "\n",
    "### Configuration de l'aspect du graphique : renommer les axes et le titre \n",
    "plt.xlabel(\"...\")  \n",
    "plt.ylabel(\"...\")\n",
    "plt.title(\"...\")\n",
    "plt.grid()   \n",
    "\n",
    "# Affichage\n",
    "plt.show()"
   ]
  }
 ],
 "metadata": {
  "kernelspec": {
   "display_name": "Python 3",
   "language": "python",
   "name": "python3"
  },
  "language_info": {
   "codemirror_mode": {
    "name": "ipython",
    "version": 3
   },
   "file_extension": ".py",
   "mimetype": "text/x-python",
   "name": "python",
   "nbconvert_exporter": "python",
   "pygments_lexer": "ipython3",
   "version": "3.7.3"
  }
 },
 "nbformat": 4,
 "nbformat_minor": 2
}
