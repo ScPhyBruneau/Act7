{
 "cells": [
  {
   "cell_type": "markdown",
   "metadata": {},
   "source": [
    "# Activité 7 : Représenter la caractéristique d'un conducteur ohmique\n",
    "\n",
    "## Importation des packages"
   ]
  },
  {
   "cell_type": "code",
   "execution_count": null,
   "metadata": {},
   "outputs": [],
   "source": [
    "import numpy as np\n",
    "import matplotlib.pyplot as plt\n",
    "import scipy.stats as sc"
   ]
  },
  {
   "cell_type": "markdown",
   "metadata": {},
   "source": [
    "## Tracé des valeurs expérimentales\n",
    "\n",
    "Compléter le code à l'aide du tableau de données"
   ]
  },
  {
   "cell_type": "code",
   "execution_count": null,
   "metadata": {
    "scrolled": false
   },
   "outputs": [],
   "source": [
    "# Valeurs expérimentales\n",
    "...=np.array([...,...,...,...,...,...,...,...,... ]) #I en mA\n",
    "...=np.array([...,...,...,...,...,...,...,...,... ]) #U en V\n",
    "\n",
    "# Représentation d'un nuage de points\n",
    "plt.plot(...,...,'o',color='green')  "
   ]
  },
  {
   "cell_type": "markdown",
   "metadata": {},
   "source": [
    "## Modélisation\n",
    "Compléter à l'aide du document 4 et renommer les axes"
   ]
  },
  {
   "cell_type": "code",
   "execution_count": null,
   "metadata": {},
   "outputs": [],
   "source": [
    "# Modélisation d'une courbe    \n",
    "droite=sc.linregress(I,U) \n",
    "coefficient=droite.slope \n",
    "print(\"Coefficient directeur :\",coefficient) \n",
    "oorigine=droite.intercept \n",
    "print(\"Ordonnée à l'origine :\",oorigine)\n",
    "\n",
    "# Tracé de la droite de régression\n",
    "U_modele=...*I+...\n",
    "plt.plot(I,U,'o',color='green') \n",
    "plt.plot(I,U_modele,color='red')  \n",
    "\n",
    "### Configuration de l'aspect du graphique\n",
    "plt.xlabel(\"...\")  \n",
    "plt.ylabel(\"...\")\n",
    "plt.title(\"...\")\n",
    "plt.grid()   \n",
    "\n",
    "# Affichage\n",
    "plt.show()"
   ]
  }
 ],
 "metadata": {
  "kernelspec": {
   "display_name": "Python 3",
   "language": "python",
   "name": "python3"
  },
  "language_info": {
   "codemirror_mode": {
    "name": "ipython",
    "version": 3
   },
   "file_extension": ".py",
   "mimetype": "text/x-python",
   "name": "python",
   "nbconvert_exporter": "python",
   "pygments_lexer": "ipython3",
   "version": "3.7.3"
  }
 },
 "nbformat": 4,
 "nbformat_minor": 2
}
