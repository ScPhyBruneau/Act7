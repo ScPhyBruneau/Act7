{
 "cells": [
  {
   "cell_type": "markdown",
   "metadata": {
    "hideCode": false,
    "hidePrompt": false
   },
   "source": [
    "# TP 17 : Vitesse limite ?\n",
    "\n",
    "<img src=\"https://air-mauss.com/wp-content/uploads/2019/02/stage-pac-airmauss-1200x630.jpg \" width=\"400\"/>\n",
    "\n",
    "Sur un forum de parachutisme, on peut lire : \"L'accélération est progressive, les 300 premiers mètres sont parcourus en 10 secondes environ puis la vitesse se stabilise aux alentours de 50 m/s.\"\n",
    "\n",
    "**Comment varie le vecteur vitesse lors d'un saut en parachute ?**\n",
    "\n",
    "**1)** Définir le système (objet étudié) et le référentiel d'étude dans la situation décrite."
   ]
  },
  {
   "cell_type": "markdown",
   "metadata": {
    "hideCode": false,
    "hidePrompt": false
   },
   "source": []
  },
  {
   "cell_type": "markdown",
   "metadata": {
    "hideCode": false,
    "hidePrompt": false
   },
   "source": [
    "La glycérine est un liquide transparent, visqueux, utilisé dans de nombreuses préparations pharmaceutiques. Pour réaliser l'étude de la chute au laboratoire, on modélisera le parachutiste par une bille et l'air qui l'entoure par la glycérine.\n",
    "\n",
    "**2)** Quel objet modélise le parachutiste au laboratoire ?"
   ]
  },
  {
   "cell_type": "markdown",
   "metadata": {
    "hideCode": false,
    "hidePrompt": false
   },
   "source": []
  },
  {
   "cell_type": "markdown",
   "metadata": {
    "hideCode": false,
    "hidePrompt": false
   },
   "source": [
    "## Réalisation du pointage vidéo\n",
    "Si possible, télécharger PyMecaVideo sur http://physique.discipline.ac-lille.fr/lycee/ressources-lycees/pymecavideo/view et l'installer. Sinon télécharger 'data.txt' et passer directement à la question **6)** ."
   ]
  },
  {
   "cell_type": "markdown",
   "metadata": {
    "hideCode": false,
    "hidePrompt": false
   },
   "source": [
    "**3)** Regarder le tutoriel de PyMecaVideo."
   ]
  },
  {
   "cell_type": "code",
   "execution_count": 8,
   "metadata": {
    "hideCode": true,
    "hidePrompt": true
   },
   "outputs": [
    {
     "data": {
      "text/html": [
       "\n",
       "        <iframe\n",
       "            width=\"560\"\n",
       "            height=\"315\"\n",
       "            src=\"https://www.youtube.com/embed/-9I4Ps8uBxg?rel=0&amp;controls=0&amp;showinfo=0\"\n",
       "            frameborder=\"0\"\n",
       "            allowfullscreen\n",
       "        ></iframe>\n",
       "        "
      ],
      "text/plain": [
       "<IPython.lib.display.IFrame at 0x2472cb67550>"
      ]
     },
     "execution_count": 8,
     "metadata": {},
     "output_type": "execute_result"
    }
   ],
   "source": [
    "from IPython.display import IFrame\n",
    "# Youtube\n",
    "IFrame(\"https://www.youtube.com/embed/-9I4Ps8uBxg?rel=0&amp;controls=0&amp;showinfo=0\",width=\"560\", height=\"315\")"
   ]
  },
  {
   "cell_type": "markdown",
   "metadata": {
    "hideCode": false,
    "hidePrompt": false
   },
   "source": [
    "**4)** Réaliser le pointage vidéo de la chute d'une bille dans la glycérine. **ATTENTION à bien définir l'échelle !**"
   ]
  },
  {
   "cell_type": "markdown",
   "metadata": {
    "hideCode": false,
    "hidePrompt": false
   },
   "source": [
    "**5)** Copier les valeurs du tableau de coordonnées dans un fichier 'data.txt'. Puis remplacer toutes les virgules par des points (tutoriel ci-après)."
   ]
  },
  {
   "cell_type": "code",
   "execution_count": 9,
   "metadata": {
    "hideCode": true,
    "hidePrompt": true
   },
   "outputs": [
    {
     "data": {
      "text/html": [
       "\n",
       "        <iframe\n",
       "            width=\"560\"\n",
       "            height=\"315\"\n",
       "            src=\"https://www.youtube.com/embed/6AtIoFlz9NM?rel=0&amp;controls=0&amp;showinfo=0\"\n",
       "            frameborder=\"0\"\n",
       "            allowfullscreen\n",
       "        ></iframe>\n",
       "        "
      ],
      "text/plain": [
       "<IPython.lib.display.IFrame at 0x2472cb67cc0>"
      ]
     },
     "execution_count": 9,
     "metadata": {},
     "output_type": "execute_result"
    }
   ],
   "source": [
    "IFrame(\"https://www.youtube.com/embed/6AtIoFlz9NM?rel=0&amp;controls=0&amp;showinfo=0\",width=\"560\", height=\"315\")"
   ]
  },
  {
   "cell_type": "markdown",
   "metadata": {
    "hideCode": false,
    "hidePrompt": false
   },
   "source": [
    "## Tracé de la trajectoire\n",
    "**6)** Ajouter 'data.txt' aux fichiers utiles pour Colab.\n",
    "<img src=\"http://sciencesphysiquesbruneau.e-monsite.com/medias/images/capture-d-ecran-2021-04-08-141637.jpg \" width=\"400\"/>"
   ]
  },
  {
   "cell_type": "code",
   "execution_count": null,
   "metadata": {
    "hideCode": false,
    "hidePrompt": false
   },
   "outputs": [],
   "source": [
    "import numpy as np\n",
    "import matplotlib.pyplot as plt\n",
    "Dt=0.04\n",
    "data = np.loadtxt('D:\\\\Cours_2nde\\\\11-Décrire un mouvement\\\\data.txt', skiprows=1)\n",
    "altitude=data[:,2]\n",
    "x=np.zeros(len(altitude))\n",
    "plt.plot(x,altitude,'r+')\n",
    "plt.axis('equal')\n",
    "plt.ylabel('altitude (en m)')\n",
    "plt.show()"
   ]
  },
  {
   "cell_type": "markdown",
   "metadata": {
    "hideCode": false,
    "hidePrompt": false
   },
   "source": [
    "## Affichage du vecteur vitesse\n",
    "\n",
    "**5)** Modifier le code ci-dessous afin d'afficher sur un autre point le vecteur vitesse."
   ]
  },
  {
   "cell_type": "code",
   "execution_count": null,
   "metadata": {
    "hideCode": false,
    "hidePrompt": false
   },
   "outputs": [],
   "source": [
    "def vitesse(x,y,Dt,i) :\n",
    " # x et y sont des listes contenant les coordonnées , i le numéro du point\n",
    " # dont on affiche la vitesse, Dt l’intervalle de temps entre chaque point\n",
    " # affichage du vecteur vitesse\n",
    " vecteur=plt.quiver(x[i],y[i],(x[i+1]-x[i-1])/2,(y[i+1]-y[i-1])/2, color = 'b')\n",
    " # affichage de l’échelle\n",
    " plt.quiverkey(vecteur, 0.75, 0.75, 0.01, label='échelle '+str(int(100/Dt)/100)+ ' cm/s', coordinates='figure')\n",
    " plt.show()\n",
    "\n",
    "plt.plot(x,altitude,'r+')\n",
    "plt.axis('equal')\n",
    "plt.ylabel('altitude (en m)')\n",
    "vitesse(x,altitude,Dt,10) #LIGNE A MODIFIER"
   ]
  },
  {
   "cell_type": "markdown",
   "metadata": {
    "hideCode": false,
    "hidePrompt": false
   },
   "source": [
    "**6)** Comment évoluent la direction, le sens et la valeur du vecteur vitesse au cours de la chute de l'objet ?"
   ]
  },
  {
   "cell_type": "markdown",
   "metadata": {
    "hideCode": false,
    "hidePrompt": false
   },
   "source": []
  },
  {
   "cell_type": "markdown",
   "metadata": {
    "hideCode": false,
    "hidePrompt": false
   },
   "source": [
    "## Synthèse\n",
    "**7)** Comment varie le vecteur vitesse lors d'un saut de ce type ?"
   ]
  },
  {
   "cell_type": "markdown",
   "metadata": {
    "hideCode": false,
    "hidePrompt": false
   },
   "source": []
  }
 ],
 "metadata": {
  "celltoolbar": "Aucun(e)",
  "hide_code_all_hidden": false,
  "kernelspec": {
   "display_name": "Python 3",
   "language": "python",
   "name": "python3"
  },
  "language_info": {
   "codemirror_mode": {
    "name": "ipython",
    "version": 3
   },
   "file_extension": ".py",
   "mimetype": "text/x-python",
   "name": "python",
   "nbconvert_exporter": "python",
   "pygments_lexer": "ipython3",
   "version": "3.7.3"
  }
 },
 "nbformat": 4,
 "nbformat_minor": 2
}
